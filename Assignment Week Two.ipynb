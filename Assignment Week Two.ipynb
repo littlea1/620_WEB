{
 "cells": [
  {
   "cell_type": "markdown",
   "metadata": {},
   "source": [
    "# Assignment: \"hello, graph world\""
   ]
  },
  {
   "cell_type": "markdown",
   "metadata": {},
   "source": [
    "Robert Sellers"
   ]
  },
  {
   "cell_type": "markdown",
   "metadata": {},
   "source": [
    "IS 620 - Web Analytics"
   ]
  },
  {
   "cell_type": "markdown",
   "metadata": {},
   "source": [
    "September 12, 2016"
   ]
  },
  {
   "cell_type": "code",
   "execution_count": 71,
   "metadata": {
    "collapsed": false
   },
   "outputs": [],
   "source": [
    "import graphlab as gl\n",
    "from graphlab import SGraph, Vertex, Edge\n",
    "gl.canvas.set_target('ipynb')"
   ]
  },
  {
   "cell_type": "code",
   "execution_count": 72,
   "metadata": {
    "collapsed": false
   },
   "outputs": [],
   "source": [
    "# Initiate graph object\n",
    "g = SGraph()\n",
    "verts = [Vertex(1, attr={'city': 'New York City'}),\n",
    "             Vertex(2, attr={'city': 'Philadelphia'}),\n",
    "             Vertex(3, attr={'city': 'Boston'}),\n",
    "         Vertex(4, attr={'city': 'Toronto'}),\n",
    "         Vertex(5, attr={'city': 'Pittsburgh'}),\n",
    "         Vertex(6, attr={'city': 'Montreal'}),\n",
    "         Vertex(7, attr={'city': 'Baltimore'}),\n",
    "         Vertex(8, attr={'city': 'Albany'}),\n",
    "         Vertex(9, attr={'city': 'Buffalo'}),\n",
    "         Vertex(10, attr={'city': 'Washington'}),\n",
    "         Vertex(11, attr={'city': 'Providence'})]\n",
    "g = g.add_vertices(verts) \n",
    "\n",
    "g = g.add_edges([Edge(1, 2), Edge(1, 8),Edge(8, 6),Edge(4, 6),Edge(4, 9),Edge(11, 3),Edge(1, 11),Edge(7, 2),\n",
    "                 Edge(7, 10),Edge(8, 9),Edge(5, 2),Edge(5, 9),Edge(3, 8)])"
   ]
  },
  {
   "cell_type": "code",
   "execution_count": 73,
   "metadata": {
    "collapsed": false
   },
   "outputs": [
    {
     "data": {
      "application/javascript": [
       "$(\"head\").append($(\"<link/>\").attr({\n",
       "  rel:  \"stylesheet\",\n",
       "  type: \"text/css\",\n",
       "  href: \"//cdnjs.cloudflare.com/ajax/libs/font-awesome/4.1.0/css/font-awesome.min.css\"\n",
       "}));\n",
       "$(\"head\").append($(\"<link/>\").attr({\n",
       "  rel:  \"stylesheet\",\n",
       "  type: \"text/css\",\n",
       "  href: \"https://static.turi.com/products/graphlab-create/2.1/canvas/css/canvas.css\"\n",
       "}));\n",
       "\n",
       "            (function(){\n",
       "\n",
       "                var e = null;\n",
       "                if (typeof element == 'undefined') {\n",
       "                    var scripts = document.getElementsByTagName('script');\n",
       "                    var thisScriptTag = scripts[scripts.length-1];\n",
       "                    var parentDiv = thisScriptTag.parentNode;\n",
       "                    e = document.createElement('div');\n",
       "                    parentDiv.appendChild(e);\n",
       "                } else {\n",
       "                    e = element[0];\n",
       "                }\n",
       "\n",
       "                if (typeof requirejs !== 'undefined') {\n",
       "                    // disable load timeout; ipython_app.js is large and can take a while to load.\n",
       "                    requirejs.config({waitSeconds: 0});\n",
       "                }\n",
       "\n",
       "                require(['https://static.turi.com/products/graphlab-create/2.1/canvas/js/ipython_app.js'], function(IPythonApp){\n",
       "                    var app = new IPythonApp();\n",
       "                    app.attachView('sgraph','View', {\"edges_labels\": null, \"selected_variable\": {\"name\": [\"g\"], \"view_file\": \"sgraph\", \"view_component\": \"View\", \"view_params\": {\"elabel_hover\": false, \"vertex_positions\": null, \"h_offset\": 0.0, \"node_size\": 300, \"ecolor\": [0.37, 0.33, 0.33], \"elabel\": null, \"arrows\": false, \"ewidth\": 1, \"vlabel\": \"city\", \"highlight_color\": [0.69, 0.0, 0.498], \"vcolor\": [0.522, 0.741, 0.0], \"vlabel_hover\": false, \"highlight\": {}, \"v_offset\": 0.03}, \"view_components\": [\"View\"], \"type\": \"SGraph\", \"descriptives_links\": {\"edges\": \"edges\", \"vertices\": \"vertices\"}, \"descriptives\": {\"edges\": 13, \"vertices\": 11}}, \"positions\": null, \"error_type\": 0, \"vertices\": [10, 8, 7, 5, 2, 9, 6, 3, 1, 11, 4], \"vertices_labels\": [\"Washington\", \"Albany\", \"Baltimore\", \"Pittsburgh\", \"Philadelphia\", \"Buffalo\", \"Montreal\", \"Boston\", \"New York City\", \"Providence\", \"Toronto\"], \"edges\": [[7, 10], [7, 2], [5, 2], [8, 6], [8, 9], [5, 9], [3, 8], [1, 8], [1, 2], [1, 11], [4, 6], [4, 9], [11, 3]], \"ipython\": true, \"error_msg\": \"\"}, e);\n",
       "                });\n",
       "            })();\n",
       "        "
      ]
     },
     "metadata": {},
     "output_type": "display_data"
    }
   ],
   "source": [
    "# Draw inaccurate map and accurate network\n",
    "g.show(vlabel='city')"
   ]
  },
  {
   "cell_type": "code",
   "execution_count": null,
   "metadata": {
    "collapsed": true
   },
   "outputs": [],
   "source": []
  }
 ],
 "metadata": {
  "kernelspec": {
   "display_name": "Python 2",
   "language": "python",
   "name": "python2"
  },
  "language_info": {
   "codemirror_mode": {
    "name": "ipython",
    "version": 2
   },
   "file_extension": ".py",
   "mimetype": "text/x-python",
   "name": "python",
   "nbconvert_exporter": "python",
   "pygments_lexer": "ipython2",
   "version": "2.7.12"
  }
 },
 "nbformat": 4,
 "nbformat_minor": 0
}
