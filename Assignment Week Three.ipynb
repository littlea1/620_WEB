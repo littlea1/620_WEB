{
 "cells": [
  {
   "cell_type": "markdown",
   "metadata": {},
   "source": [
    "# Assignment 3: Graph Visualization"
   ]
  },
  {
   "cell_type": "markdown",
   "metadata": {},
   "source": [
    "CUNY DATA620 - Web Analytics"
   ]
  },
  {
   "cell_type": "markdown",
   "metadata": {},
   "source": [
    "Robert Sellers | September 20, 2016"
   ]
  },
  {
   "cell_type": "markdown",
   "metadata": {},
   "source": [
    "## Initialization"
   ]
  },
  {
   "cell_type": "code",
   "execution_count": 6,
   "metadata": {
    "collapsed": true
   },
   "outputs": [],
   "source": [
    "#required libraries\n",
    "import graphlab as gl\n",
    "import pandas as pd"
   ]
  },
  {
   "cell_type": "code",
   "execution_count": 7,
   "metadata": {
    "collapsed": true
   },
   "outputs": [],
   "source": [
    "gl.canvas.set_target('ipynb')"
   ]
  },
  {
   "cell_type": "markdown",
   "metadata": {},
   "source": [
    "The following data represents the a nodal road system network of Europe (an arbitrary neighborhood selection subset)."
   ]
  },
  {
   "cell_type": "code",
   "execution_count": 8,
   "metadata": {
    "collapsed": false
   },
   "outputs": [],
   "source": [
    "#Import data, pandas data conversion\n",
    "#original data source http://networkrepository.com/inf-euroroad.php (citation below)\n",
    "edgeFile = 'http://tinyurl.com/j535z7z'\n",
    "edges = pd.read_csv(edgeFile,sep='\\s+',header=None)"
   ]
  },
  {
   "cell_type": "code",
   "execution_count": 9,
   "metadata": {
    "collapsed": false
   },
   "outputs": [
    {
     "name": "stdout",
     "output_type": "stream",
     "text": [
      "This non-commercial license of GraphLab Create for academic use is assigned to robert.sellers@spsmail.cuny.edu and will expire on August 29, 2017.\n"
     ]
    },
    {
     "name": "stderr",
     "output_type": "stream",
     "text": [
      "[INFO] graphlab.cython.cy_server: GraphLab Create v2.1 started. Logging: C:\\Users\\Robert\\AppData\\Local\\Temp\\graphlab_server_1474308934.log.0\n"
     ]
    }
   ],
   "source": [
    "# Initiate graph/frame objects\n",
    "g = gl.SGraph()\n",
    "g = g.add_edges(edges, src_field='0', dst_field='1')\n",
    "# Subset taken with arbitrary values. \n",
    "subgraph = g.get_neighborhood(ids=[1,2,3,4,5,6,7,8,9,10,11,12,13,14,15], radius=3,\n",
    "                                  full_subgraph=True)"
   ]
  },
  {
   "cell_type": "code",
   "execution_count": 45,
   "metadata": {
    "collapsed": false
   },
   "outputs": [
    {
     "data": {
      "application/javascript": [
       "$(\"head\").append($(\"<link/>\").attr({\n",
       "  rel:  \"stylesheet\",\n",
       "  type: \"text/css\",\n",
       "  href: \"//cdnjs.cloudflare.com/ajax/libs/font-awesome/4.1.0/css/font-awesome.min.css\"\n",
       "}));\n",
       "$(\"head\").append($(\"<link/>\").attr({\n",
       "  rel:  \"stylesheet\",\n",
       "  type: \"text/css\",\n",
       "  href: \"https://static.turi.com/products/graphlab-create/2.1/canvas/css/canvas.css\"\n",
       "}));\n",
       "\n",
       "            (function(){\n",
       "\n",
       "                var e = null;\n",
       "                if (typeof element == 'undefined') {\n",
       "                    var scripts = document.getElementsByTagName('script');\n",
       "                    var thisScriptTag = scripts[scripts.length-1];\n",
       "                    var parentDiv = thisScriptTag.parentNode;\n",
       "                    e = document.createElement('div');\n",
       "                    parentDiv.appendChild(e);\n",
       "                } else {\n",
       "                    e = element[0];\n",
       "                }\n",
       "\n",
       "                if (typeof requirejs !== 'undefined') {\n",
       "                    // disable load timeout; ipython_app.js is large and can take a while to load.\n",
       "                    requirejs.config({waitSeconds: 0});\n",
       "                }\n",
       "\n",
       "                require(['https://static.turi.com/products/graphlab-create/2.1/canvas/js/ipython_app.js'], function(IPythonApp){\n",
       "                    var app = new IPythonApp();\n",
       "                    app.attachView('sgraph','View', {\"edges_labels\": null, \"selected_variable\": {\"name\": [\"subgraph\"], \"view_file\": \"sgraph\", \"view_component\": \"View\", \"view_params\": {\"elabel_hover\": false, \"vertex_positions\": null, \"h_offset\": 0.0, \"node_size\": 300, \"ecolor\": [0.37, 0.33, 0.33], \"elabel\": null, \"arrows\": false, \"ewidth\": 1, \"vlabel\": \"id\", \"highlight_color\": [0.69, 0.0, 0.498], \"vcolor\": [0.522, 0.741, 0.0], \"vlabel_hover\": false, \"highlight\": {}, \"v_offset\": 0.03}, \"view_components\": [\"View\"], \"type\": \"SGraph\", \"descriptives_links\": {\"edges\": \"edges\", \"vertices\": \"vertices\"}, \"descriptives\": {\"edges\": 124, \"vertices\": 99}}, \"positions\": null, \"error_type\": 0, \"vertices\": [918, 881, 595, 482, 480, 478, 7, 8, 10, 1158, 27, 29, 454, 33, 50, 47, 394, 1111, 884, 875, 23, 402, 1137, 538, 873, 30, 65, 598, 1024, 34, 453, 842, 1109, 1014, 885, 43, 1074, 1028, 621, 13, 452, 26, 31, 485, 561, 410, 539, 46, 559, 594, 591, 455, 32, 596, 481, 6, 536, 619, 477, 1036, 880, 28, 1078, 1159, 51, 9, 1139, 1073, 911, 1075, 12, 14, 409, 593, 25, 622, 45, 411, 562, 560, 620, 889, 64, 42, 862, 39, 1110, 11, 1138, 412, 22, 535, 24, 44, 479, 874, 57, 537, 592], \"vertices_labels\": [918, 881, 595, 482, 480, 478, 7, 8, 10, 1158, 27, 29, 454, 33, 50, 47, 394, 1111, 884, 875, 23, 402, 1137, 538, 873, 30, 65, 598, 1024, 34, 453, 842, 1109, 1014, 885, 43, 1074, 1028, 621, 13, 452, 26, 31, 485, 561, 410, 539, 46, 559, 594, 591, 455, 32, 596, 481, 6, 536, 619, 477, 1036, 880, 28, 1078, 1159, 51, 9, 1139, 1073, 911, 1075, 12, 14, 409, 593, 25, 622, 45, 411, 562, 560, 620, 889, 64, 42, 862, 39, 1110, 11, 1138, 412, 22, 535, 24, 44, 479, 874, 57, 537, 592], \"edges\": [[7, 8], [7, 454], [8, 480], [454, 881], [7, 453], [29, 30], [7, 23], [33, 34], [454, 885], [27, 561], [10, 561], [8, 561], [1158, 1159], [10, 536], [27, 28], [595, 596], [50, 51], [480, 481], [8, 9], [7, 411], [7, 889], [454, 874], [478, 479], [10, 11], [8, 479], [7, 22], [453, 478], [65, 394], [23, 538], [884, 885], [453, 885], [23, 1109], [538, 539], [402, 452], [30, 31], [34, 1159], [23, 1078], [598, 1073], [538, 1110], [453, 479], [1137, 1138], [873, 874], [23, 24], [23, 537], [43, 50], [43, 454], [1109, 1111], [43, 455], [43, 51], [43, 411], [43, 44], [26, 27], [46, 47], [452, 453], [46, 485], [13, 596], [46, 1036], [31, 32], [559, 594], [559, 593], [561, 562], [410, 411], [13, 14], [559, 560], [1074, 1075], [46, 889], [13, 1138], [28, 29], [477, 478], [32, 33], [880, 881], [6, 7], [594, 595], [9, 10], [481, 482], [51, 538], [9, 1074], [9, 561], [6, 880], [619, 1139], [536, 1139], [9, 537], [591, 592], [12, 27], [593, 918], [14, 34], [12, 30], [409, 1024], [12, 559], [12, 13], [45, 46], [409, 410], [25, 26], [1073, 1074], [620, 621], [562, 911], [409, 862], [411, 412], [42, 881], [64, 394], [39, 881], [39, 875], [64, 842], [64, 65], [42, 43], [64, 411], [39, 412], [874, 875], [22, 885], [412, 1014], [537, 621], [874, 1028], [535, 591], [535, 536], [22, 409], [11, 12], [57, 562], [537, 622], [44, 45], [24, 25], [592, 593], [479, 620], [11, 560], [24, 1110]], \"ipython\": true, \"error_msg\": \"\"}, e);\n",
       "                });\n",
       "            })();\n",
       "        "
      ]
     },
     "metadata": {},
     "output_type": "display_data"
    }
   ],
   "source": [
    "# Draw graph\n",
    "#gc=gl.graph_coloring.create(subgraph)\n",
    "subgraph.show(vlabel='id')"
   ]
  },
  {
   "cell_type": "markdown",
   "metadata": {},
   "source": [
    "## Simple network analyses"
   ]
  },
  {
   "cell_type": "code",
   "execution_count": 10,
   "metadata": {
    "collapsed": false
   },
   "outputs": [
    {
     "name": "stdout",
     "output_type": "stream",
     "text": [
      "{'num_edges': 1417L, 'num_vertices': 1174L}\n"
     ]
    }
   ],
   "source": [
    "#edges and vertices\n",
    "print g.summary()"
   ]
  },
  {
   "cell_type": "markdown",
   "metadata": {},
   "source": [
    "### Page Rank"
   ]
  },
  {
   "cell_type": "code",
   "execution_count": 11,
   "metadata": {
    "collapsed": false
   },
   "outputs": [
    {
     "data": {
      "text/html": [
       "<pre>Counting out degree</pre>"
      ],
      "text/plain": [
       "Counting out degree"
      ]
     },
     "metadata": {},
     "output_type": "display_data"
    },
    {
     "data": {
      "text/html": [
       "<pre>Done counting out degree</pre>"
      ],
      "text/plain": [
       "Done counting out degree"
      ]
     },
     "metadata": {},
     "output_type": "display_data"
    },
    {
     "data": {
      "text/html": [
       "<pre>+-----------+-----------------------+</pre>"
      ],
      "text/plain": [
       "+-----------+-----------------------+"
      ]
     },
     "metadata": {},
     "output_type": "display_data"
    },
    {
     "data": {
      "text/html": [
       "<pre>| Iteration | L1 change in pagerank |</pre>"
      ],
      "text/plain": [
       "| Iteration | L1 change in pagerank |"
      ]
     },
     "metadata": {},
     "output_type": "display_data"
    },
    {
     "data": {
      "text/html": [
       "<pre>+-----------+-----------------------+</pre>"
      ],
      "text/plain": [
       "+-----------+-----------------------+"
      ]
     },
     "metadata": {},
     "output_type": "display_data"
    },
    {
     "data": {
      "text/html": [
       "<pre>| 1         | 364.002               |</pre>"
      ],
      "text/plain": [
       "| 1         | 364.002               |"
      ]
     },
     "metadata": {},
     "output_type": "display_data"
    },
    {
     "data": {
      "text/html": [
       "<pre>| 2         | 228.778               |</pre>"
      ],
      "text/plain": [
       "| 2         | 228.778               |"
      ]
     },
     "metadata": {},
     "output_type": "display_data"
    },
    {
     "data": {
      "text/html": [
       "<pre>| 3         | 136.202               |</pre>"
      ],
      "text/plain": [
       "| 3         | 136.202               |"
      ]
     },
     "metadata": {},
     "output_type": "display_data"
    },
    {
     "data": {
      "text/html": [
       "<pre>| 4         | 78.6569               |</pre>"
      ],
      "text/plain": [
       "| 4         | 78.6569               |"
      ]
     },
     "metadata": {},
     "output_type": "display_data"
    },
    {
     "data": {
      "text/html": [
       "<pre>| 5         | 43.3809               |</pre>"
      ],
      "text/plain": [
       "| 5         | 43.3809               |"
      ]
     },
     "metadata": {},
     "output_type": "display_data"
    },
    {
     "data": {
      "text/html": [
       "<pre>| 6         | 23.7794               |</pre>"
      ],
      "text/plain": [
       "| 6         | 23.7794               |"
      ]
     },
     "metadata": {},
     "output_type": "display_data"
    },
    {
     "data": {
      "text/html": [
       "<pre>| 7         | 13.2402               |</pre>"
      ],
      "text/plain": [
       "| 7         | 13.2402               |"
      ]
     },
     "metadata": {},
     "output_type": "display_data"
    },
    {
     "data": {
      "text/html": [
       "<pre>| 8         | 7.89304               |</pre>"
      ],
      "text/plain": [
       "| 8         | 7.89304               |"
      ]
     },
     "metadata": {},
     "output_type": "display_data"
    },
    {
     "data": {
      "text/html": [
       "<pre>| 9         | 4.48227               |</pre>"
      ],
      "text/plain": [
       "| 9         | 4.48227               |"
      ]
     },
     "metadata": {},
     "output_type": "display_data"
    },
    {
     "data": {
      "text/html": [
       "<pre>| 10        | 2.85443               |</pre>"
      ],
      "text/plain": [
       "| 10        | 2.85443               |"
      ]
     },
     "metadata": {},
     "output_type": "display_data"
    },
    {
     "data": {
      "text/html": [
       "<pre>+-----------+-----------------------+</pre>"
      ],
      "text/plain": [
       "+-----------+-----------------------+"
      ]
     },
     "metadata": {},
     "output_type": "display_data"
    },
    {
     "name": "stdout",
     "output_type": "stream",
     "text": [
      "+------+---------------+------------------+\n",
      "| __id |    pagerank   |      delta       |\n",
      "+------+---------------+------------------+\n",
      "| 922  | 1.51873567285 | 0.0453297239624  |\n",
      "| 983  | 1.45814403651 | 0.00546873345391 |\n",
      "| 766  |  1.4202083928 |  0.190068869376  |\n",
      "| 923  | 1.40239505656 | 0.0510415122365  |\n",
      "| 949  | 1.22300788308 |  0.028710850633  |\n",
      "| 1159 | 1.18001797136 | 0.0138549385495  |\n",
      "| 807  | 1.15884903229 |       0.0        |\n",
      "| 1033 | 1.15866031725 | 0.0168543326864  |\n",
      "| 1031 | 1.10974671822 | 0.0151023125243  |\n",
      "| 800  | 1.10699286276 | 0.0205077504522  |\n",
      "+------+---------------+------------------+\n",
      "[10 rows x 3 columns]\n",
      "\n"
     ]
    }
   ],
   "source": [
    "#page rank\n",
    "pr = gl.pagerank.create(g, max_iterations=10)\n",
    "pr_out = pr['pagerank']\n",
    "print pr_out.topk('pagerank', k=10)"
   ]
  },
  {
   "cell_type": "markdown",
   "metadata": {},
   "source": [
    "### Triangular densities"
   ]
  },
  {
   "cell_type": "code",
   "execution_count": 13,
   "metadata": {
    "collapsed": false
   },
   "outputs": [
    {
     "data": {
      "text/html": [
       "<pre>Initializing vertex ids.</pre>"
      ],
      "text/plain": [
       "Initializing vertex ids."
      ]
     },
     "metadata": {},
     "output_type": "display_data"
    },
    {
     "data": {
      "text/html": [
       "<pre>Removing duplicate (bidirectional) edges.</pre>"
      ],
      "text/plain": [
       "Removing duplicate (bidirectional) edges."
      ]
     },
     "metadata": {},
     "output_type": "display_data"
    },
    {
     "data": {
      "text/html": [
       "<pre>Counting triangles...</pre>"
      ],
      "text/plain": [
       "Counting triangles..."
      ]
     },
     "metadata": {},
     "output_type": "display_data"
    },
    {
     "data": {
      "text/html": [
       "<pre>Finished in 0.246721 secs.</pre>"
      ],
      "text/plain": [
       "Finished in 0.246721 secs."
      ]
     },
     "metadata": {},
     "output_type": "display_data"
    },
    {
     "data": {
      "text/html": [
       "<pre>Total triangles in the graph : 32</pre>"
      ],
      "text/plain": [
       "Total triangles in the graph : 32"
      ]
     },
     "metadata": {},
     "output_type": "display_data"
    },
    {
     "name": "stdout",
     "output_type": "stream",
     "text": [
      "+------+----------------+\n",
      "| __id | triangle_count |\n",
      "+------+----------------+\n",
      "|  50  |       2        |\n",
      "| 499  |       2        |\n",
      "| 143  |       2        |\n",
      "| 541  |       2        |\n",
      "| 545  |       2        |\n",
      "| 673  |       2        |\n",
      "| 561  |       2        |\n",
      "|  9   |       2        |\n",
      "| 699  |       2        |\n",
      "| 497  |       2        |\n",
      "+------+----------------+\n",
      "[10 rows x 2 columns]\n",
      "\n"
     ]
    }
   ],
   "source": [
    "tri = gl.triangle_counting.create(g)\n",
    "tri_out = tri['triangle_count']\n",
    "print tri_out.topk('triangle_count', k=10)"
   ]
  },
  {
   "cell_type": "markdown",
   "metadata": {
    "collapsed": true
   },
   "source": [
    "@misc{nr:inf-euroroad,\n",
    "      title={inf-euroroad - Infrastructure Networks},\n",
    "      author={Ryan A. Rossi and Nesreen K. Ahmed},\n",
    "      url={http://networkrepository.com/inf-euroroad.php},\n",
    "      year={2013}\n",
    "}\n",
    "\n",
    "@inproceedings{nr,\n",
    "     title={The Network Data Repository with Interactive Graph Analytics and Visualization},\n",
    "     author={Ryan A. Rossi and Nesreen K. Ahmed},\n",
    "     booktitle={Proceedings of the Twenty-Ninth AAAI Conference on Artificial Intelligence},\n",
    "     url={http://networkrepository.com},\n",
    "     year={2015}\n",
    "}\n",
    "\n",
    "  @article{nr-sigkdd16,\n",
    "     title = {An Interactive Data Repository with Visual Analytics},\n",
    "     author = {Ryan A. Rossi and Nesreen K. Ahmed},\n",
    "     journal = {SIGKDD Explor.},\n",
    "     volume = {17},\n",
    "     number = {2},\n",
    "     year = {2016},\n",
    "     pages = {37--41},\n",
    "     url={http://networkrepository.com}\n",
    "  }"
   ]
  },
  {
   "cell_type": "code",
   "execution_count": null,
   "metadata": {
    "collapsed": true
   },
   "outputs": [],
   "source": []
  },
  {
   "cell_type": "code",
   "execution_count": null,
   "metadata": {
    "collapsed": true
   },
   "outputs": [],
   "source": []
  }
 ],
 "metadata": {
  "kernelspec": {
   "display_name": "Python 2",
   "language": "python",
   "name": "python2"
  },
  "language_info": {
   "codemirror_mode": {
    "name": "ipython",
    "version": 2
   },
   "file_extension": ".py",
   "mimetype": "text/x-python",
   "name": "python",
   "nbconvert_exporter": "python",
   "pygments_lexer": "ipython2",
   "version": "2.7.12"
  }
 },
 "nbformat": 4,
 "nbformat_minor": 0
}
