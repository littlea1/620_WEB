{
 "cells": [
  {
   "cell_type": "markdown",
   "metadata": {},
   "source": [
    "### City University of New York | IS620 | Web Analytics"
   ]
  },
  {
   "cell_type": "markdown",
   "metadata": {},
   "source": [
    "# Project 4  :  Bayesian Movie Review Document Classifier\n",
    "---\n",
    "### Team\n",
    "+ Robert Sellers\n",
    "\n",
    "### References\n",
    "+ [Natural Language Processing With Python](http://www.nltk.org/book/)\n",
    "+ [Text Classification for Sentiment Analysis – Naive Bayes Classifier](http://streamhacker.com/2010/05/10/text-classification-sentiment-analysis-naive-bayes-classifier/)\n",
    "+ [Text Classification for Sentiment Analysis – Eliminate Low Information Features](http://streamhacker.com/2010/06/16/text-classification-sentiment-analysis-eliminate-low-information-features/)"
   ]
  },
  {
   "cell_type": "markdown",
   "metadata": {
    "collapsed": true
   },
   "source": [
    "## Required libraries"
   ]
  },
  {
   "cell_type": "markdown",
   "metadata": {},
   "source": [
    "+ collections\n",
    "+ itertools\n",
    "+ nltk"
   ]
  },
  {
   "cell_type": "code",
   "execution_count": 1,
   "metadata": {
    "collapsed": true
   },
   "outputs": [],
   "source": [
    "import collections\n",
    "import itertools\n",
    "import nltk.classify.util, nltk.metrics\n",
    "from nltk.classify import NaiveBayesClassifier\n",
    "from nltk.corpus import movie_reviews, stopwords\n",
    "from nltk.collocations import BigramCollocationFinder\n",
    "from nltk.metrics import BigramAssocMeasures\n",
    "from nltk.metrics import precision, recall"
   ]
  },
  {
   "cell_type": "markdown",
   "metadata": {},
   "source": [
    "## Testing and training the Naive Bayes Classifier\n",
    "\n",
    "**The classification is measured using Precicion, Accuracy, and Recall. The higher the precision and recall the fewer the false positives.** "
   ]
  },
  {
   "cell_type": "code",
   "execution_count": 2,
   "metadata": {
    "collapsed": false
   },
   "outputs": [],
   "source": [
    "def movie_classifier(featx,output):\n",
    "    \n",
    "    #Retrieving the positive and negative reviews\n",
    "    negids = movie_reviews.fileids('neg')\n",
    "    posids = movie_reviews.fileids('pos')\n",
    "    \n",
    "    # define the split of % training / % test\n",
    "    split = 0.8\n",
    "\n",
    "    negfeats = [(featx(movie_reviews.words(fileids=[f])), \n",
    "                 'neg') for f in negids]\n",
    "    posfeats = [(featx(movie_reviews.words(fileids=[f])), \n",
    "                 'pos') for f in posids]\n",
    "     \n",
    "    cutoff = int(len(posfeats) * split)\n",
    "\n",
    "    trainfeats = negfeats[:cutoff] + posfeats[:cutoff]\n",
    "    testfeats = negfeats[cutoff:] + posfeats[cutoff:]\n",
    " \n",
    "    #Defining the classifier\n",
    "    classifier = NaiveBayesClassifier.train(trainfeats)\n",
    "    refsets = collections.defaultdict(set)\n",
    "    testsets = collections.defaultdict(set)\n",
    " \n",
    "    for i, (feats, label) in enumerate(testfeats):\n",
    "            refsets[label].add(i)\n",
    "            observed = classifier.classify(feats)\n",
    "            testsets[observed].add(i)\n",
    "            \n",
    "    #Set output parameter to true if you want to see these metrics!        \n",
    "    if output is True:\n",
    "        print 'Train on %d instances\\nTest on %d instances' % (len(trainfeats),len(testfeats))\n",
    "        print 'accuracy:', nltk.classify.util.accuracy(classifier, testfeats)\n",
    "        print 'pos precision:', precision(refsets['pos'], testsets['pos'])\n",
    "        print 'pos recall:', recall(refsets['pos'], testsets['pos'])\n",
    "        print 'neg precision:', precision(refsets['neg'], testsets['neg'])\n",
    "        print 'neg recall:', recall(refsets['neg'], testsets['neg'])\n",
    "        classifier.show_most_informative_features(30)\n"
   ]
  },
  {
   "cell_type": "markdown",
   "metadata": {},
   "source": [
    "## Scoring and Word Frequencies"
   ]
  },
  {
   "cell_type": "code",
   "execution_count": 3,
   "metadata": {
    "collapsed": false
   },
   "outputs": [],
   "source": [
    "word_fd = nltk.probability.FreqDist()\n",
    "label_word_fd = nltk.probability.ConditionalFreqDist()"
   ]
  },
  {
   "cell_type": "markdown",
   "metadata": {},
   "source": [
    "### Counting negatives and positives"
   ]
  },
  {
   "cell_type": "code",
   "execution_count": 4,
   "metadata": {
    "collapsed": false
   },
   "outputs": [],
   "source": [
    "#Positive scores\n",
    "for word in movie_reviews.words(categories=['pos']):\n",
    "    word_fd[word.lower()] += 1\n",
    "    label_word_fd['pos'][word.lower()] += 1\n",
    "\n",
    "#Negative scores\n",
    "for word in movie_reviews.words(categories=['neg']):\n",
    "    word_fd[word.lower()] += 1\n",
    "    label_word_fd['neg'][word.lower()] += 1"
   ]
  },
  {
   "cell_type": "markdown",
   "metadata": {},
   "source": [
    "### Calculating Totals"
   ]
  },
  {
   "cell_type": "code",
   "execution_count": 5,
   "metadata": {
    "collapsed": true
   },
   "outputs": [],
   "source": [
    "pos_word_count = label_word_fd['pos'].N()\n",
    "neg_word_count = label_word_fd['neg'].N()\n",
    "total_word_count = pos_word_count + neg_word_count"
   ]
  },
  {
   "cell_type": "code",
   "execution_count": 6,
   "metadata": {
    "collapsed": false
   },
   "outputs": [],
   "source": [
    "word_scores = {}\n",
    "\n",
    " # Merging positive and negative scores together\n",
    "for word, freq in word_fd.iteritems():\n",
    "    pos_score = BigramAssocMeasures.chi_sq(label_word_fd['pos'][word],\n",
    "        (freq, pos_word_count), total_word_count)\n",
    "    neg_score = BigramAssocMeasures.chi_sq(label_word_fd['neg'][word],\n",
    "        (freq, neg_word_count), total_word_count)\n",
    "    word_scores[word] = pos_score + neg_score"
   ]
  },
  {
   "cell_type": "markdown",
   "metadata": {},
   "source": [
    "**Adding the top 10000 words as features**"
   ]
  },
  {
   "cell_type": "code",
   "execution_count": 7,
   "metadata": {
    "collapsed": true
   },
   "outputs": [],
   "source": [
    "best = sorted(word_scores.iteritems(), \n",
    "              key=lambda (w,s): s, reverse=True)[:10000]\n",
    "\n",
    "bestwords = set([w for w, s in best])\n",
    "\n",
    "def best_word_feats(words):\n",
    "    return dict([(word, True) for word in words if word in bestwords])"
   ]
  },
  {
   "cell_type": "markdown",
   "metadata": {},
   "source": [
    "**Including the top 200 bigrams**"
   ]
  },
  {
   "cell_type": "code",
   "execution_count": 8,
   "metadata": {
    "collapsed": false
   },
   "outputs": [],
   "source": [
    "def best_bigram_word_feats(words, score_fn=BigramAssocMeasures.chi_sq, n=200):\n",
    "    bigram_finder = BigramCollocationFinder.from_words(words)\n",
    "    bigrams = bigram_finder.nbest(score_fn, n)\n",
    "    d = dict([(bigram, True) for bigram in bigrams])\n",
    "    d.update(best_word_feats(words))\n",
    "    return d"
   ]
  },
  {
   "cell_type": "markdown",
   "metadata": {},
   "source": [
    "## Results\n",
    "+ Scoring metrics: accuracy, precision and recall\n",
    "+ Top 30 results"
   ]
  },
  {
   "cell_type": "code",
   "execution_count": 9,
   "metadata": {
    "collapsed": false
   },
   "outputs": [
    {
     "name": "stdout",
     "output_type": "stream",
     "text": [
      "Train on 1600 instances\n",
      "Test on 400 instances\n",
      "accuracy: 0.9225\n",
      "pos precision: 0.912195121951\n",
      "pos recall: 0.935\n",
      "neg precision: 0.933333333333\n",
      "neg recall: 0.91\n",
      "Most Informative Features\n",
      "             outstanding = True              pos : neg    =     13.9 : 1.0\n",
      "               insulting = True              neg : pos    =     13.7 : 1.0\n",
      "              vulnerable = True              pos : neg    =     13.0 : 1.0\n",
      "               ludicrous = True              neg : pos    =     12.6 : 1.0\n",
      "             uninvolving = True              neg : pos    =     12.3 : 1.0\n",
      "     (u'matt', u'damon') = True              pos : neg    =     12.3 : 1.0\n",
      "        (u'give', u'us') = True              neg : pos    =     12.3 : 1.0\n",
      "   (u'saving', u'grace') = True              neg : pos    =     11.7 : 1.0\n",
      "                  avoids = True              pos : neg    =     11.7 : 1.0\n",
      "              astounding = True              pos : neg    =     11.7 : 1.0\n",
      "             fascination = True              pos : neg    =     11.0 : 1.0\n",
      "  (u'absolutely', u'no') = True              neg : pos    =     10.6 : 1.0\n",
      "                    anna = True              pos : neg    =     10.3 : 1.0\n",
      "               animators = True              pos : neg    =     10.3 : 1.0\n",
      "     (u'fairy', u'tale') = True              pos : neg    =     10.3 : 1.0\n",
      "                  seagal = True              neg : pos    =     10.3 : 1.0\n",
      "                  symbol = True              pos : neg    =     10.3 : 1.0\n",
      "                  darker = True              pos : neg    =     10.3 : 1.0\n",
      "               affecting = True              pos : neg    =     10.3 : 1.0\n",
      "                 idiotic = True              neg : pos    =      9.8 : 1.0\n",
      "  (u'quite', u'frankly') = True              neg : pos    =      9.7 : 1.0\n",
      "        (u'does', u'so') = True              pos : neg    =      9.7 : 1.0\n",
      "                bothered = True              neg : pos    =      9.0 : 1.0\n",
      "  (u'steven', u'seagal') = True              neg : pos    =      9.0 : 1.0\n",
      "                   mulan = True              pos : neg    =      9.0 : 1.0\n",
      "               represent = True              pos : neg    =      9.0 : 1.0\n",
      "               strengths = True              pos : neg    =      9.0 : 1.0\n",
      "     (u'red', u'planet') = True              neg : pos    =      9.0 : 1.0\n",
      "               illogical = True              neg : pos    =      9.0 : 1.0\n",
      "                palpable = True              pos : neg    =      9.0 : 1.0\n"
     ]
    }
   ],
   "source": [
    "movie_classifier(best_bigram_word_feats,True)"
   ]
  },
  {
   "cell_type": "markdown",
   "metadata": {},
   "source": [
    "## Discussion\n",
    "**Let us analyze the precision and recall. High values in recall means very few false negatives, and the precision rates indicate a high level of true positives in both negative and positive. The accuracy corroborates with these statistics.**\n",
    "\n",
    "**The results are a mixture of primarily adjectives with a scattering of fairly diverse vocabulary describing film in various ways. We recognize that Matt Damon is a popular film actor and that Steven Seagal is generally a terrible actor. These make sense, however it is definitely surprising to see them specifically floating to the top of this list. We also see some, what I would call \"charged\" or \"leading\" words and phrases that are typically associated with the emotional state of a critic. Take for example \"avoids\". The director or production \"avoids\" doing something terrible.  Or \"does so\", which I consider to be an inverse of \"with that said\". The remaining answers are either unclear or self-explanatory to anyone who has listened or read a substantial number of film reviews.**"
   ]
  }
 ],
 "metadata": {
  "kernelspec": {
   "display_name": "Python 2",
   "language": "python",
   "name": "python2"
  },
  "language_info": {
   "codemirror_mode": {
    "name": "ipython",
    "version": 2
   },
   "file_extension": ".py",
   "mimetype": "text/x-python",
   "name": "python",
   "nbconvert_exporter": "python",
   "pygments_lexer": "ipython2",
   "version": "2.7.12"
  }
 },
 "nbformat": 4,
 "nbformat_minor": 0
}
